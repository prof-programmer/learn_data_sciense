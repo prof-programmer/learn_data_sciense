{
  "nbformat": 4,
  "nbformat_minor": 0,
  "metadata": {
    "colab": {
      "provenance": [],
      "toc_visible": true,
      "authorship_tag": "ABX9TyOWs44mIGt5/GwcUwD+S2PB",
      "include_colab_link": true
    },
    "kernelspec": {
      "name": "python3",
      "display_name": "Python 3"
    },
    "language_info": {
      "name": "python"
    }
  },
  "cells": [
    {
      "cell_type": "markdown",
      "metadata": {
        "id": "view-in-github",
        "colab_type": "text"
      },
      "source": [
        "<a href=\"https://colab.research.google.com/github/prof-programmer/learn_data_sciense/blob/main/Pandas_2_Series_metodlari.ipynb\" target=\"_parent\"><img src=\"https://colab.research.google.com/assets/colab-badge.svg\" alt=\"Open In Colab\"/></a>"
      ]
    },
    {
      "cell_type": "markdown",
      "source": [
        "Pandas kutubxonasi bilan tanishish"
      ],
      "metadata": {
        "id": "uGweGc3P9E69"
      }
    },
    {
      "cell_type": "code",
      "execution_count": null,
      "metadata": {
        "id": "kJ2zp2vq8uvS"
      },
      "outputs": [],
      "source": [
        "import pandas as pd\n"
      ]
    },
    {
      "cell_type": "code",
      "source": [
        "import numpy as np"
      ],
      "metadata": {
        "id": "32TAvgem80O7"
      },
      "execution_count": null,
      "outputs": []
    },
    {
      "cell_type": "markdown",
      "source": [
        "Series va dataframe ma'lumotlar tuzilmasi bor"
      ],
      "metadata": {
        "id": "br8-LGMV9UzS"
      }
    },
    {
      "cell_type": "code",
      "source": [
        "from pandas import Series #Series ma'lumotlar tuzilmasi"
      ],
      "metadata": {
        "id": "KvW4sbv_9SPW"
      },
      "execution_count": null,
      "outputs": []
    },
    {
      "cell_type": "code",
      "source": [
        "obj = Series([4,5,6,-6.5])"
      ],
      "metadata": {
        "id": "U0y8efyw9bDP"
      },
      "execution_count": null,
      "outputs": []
    },
    {
      "cell_type": "code",
      "source": [
        "type(obj)"
      ],
      "metadata": {
        "colab": {
          "base_uri": "https://localhost:8080/"
        },
        "id": "HBOfj95X9oNF",
        "outputId": "bb04f80a-7984-40c7-bab5-a4f586799f90"
      },
      "execution_count": null,
      "outputs": [
        {
          "output_type": "execute_result",
          "data": {
            "text/plain": [
              "pandas.core.series.Series"
            ]
          },
          "metadata": {},
          "execution_count": 6
        }
      ]
    },
    {
      "cell_type": "code",
      "source": [
        "print(obj)"
      ],
      "metadata": {
        "colab": {
          "base_uri": "https://localhost:8080/"
        },
        "id": "F9btsXUo9pHV",
        "outputId": "f13d5959-7e9e-4a0a-8225-ea9ade3e106f"
      },
      "execution_count": null,
      "outputs": [
        {
          "output_type": "stream",
          "name": "stdout",
          "text": [
            "0    4.0\n",
            "1    5.0\n",
            "2    6.0\n",
            "3   -6.5\n",
            "dtype: float64\n"
          ]
        }
      ]
    },
    {
      "cell_type": "markdown",
      "source": [
        "# Qiymatlarini korish"
      ],
      "metadata": {
        "id": "zsZ6jIv2Svkt"
      }
    },
    {
      "cell_type": "code",
      "source": [
        "obj.values #qiymatlarni ko`rish (values)"
      ],
      "metadata": {
        "id": "ZS_HdoJc9tCZ",
        "colab": {
          "base_uri": "https://localhost:8080/"
        },
        "outputId": "67a2a7c1-acc8-4fb5-f2b8-ef7ba993551b"
      },
      "execution_count": null,
      "outputs": [
        {
          "output_type": "execute_result",
          "data": {
            "text/plain": [
              "array([ 4. ,  5. ,  6. , -6.5])"
            ]
          },
          "metadata": {},
          "execution_count": 7
        }
      ]
    },
    {
      "cell_type": "markdown",
      "source": [
        "# Indekslarini ko`rish"
      ],
      "metadata": {
        "id": "5vCwSczkS0oD"
      }
    },
    {
      "cell_type": "code",
      "source": [
        "obj.index"
      ],
      "metadata": {
        "colab": {
          "base_uri": "https://localhost:8080/"
        },
        "id": "ML0EOh_rSeuw",
        "outputId": "b3e4056e-ab2a-49cc-c333-b480aab9d8ad"
      },
      "execution_count": null,
      "outputs": [
        {
          "output_type": "execute_result",
          "data": {
            "text/plain": [
              "RangeIndex(start=0, stop=4, step=1)"
            ]
          },
          "metadata": {},
          "execution_count": 8
        }
      ]
    },
    {
      "cell_type": "markdown",
      "source": [
        "# Indeks orqali izlash"
      ],
      "metadata": {
        "id": "23K0CFoTTF9O"
      }
    },
    {
      "cell_type": "code",
      "source": [
        "obj[0]"
      ],
      "metadata": {
        "colab": {
          "base_uri": "https://localhost:8080/"
        },
        "id": "JRAdMalyS3RW",
        "outputId": "04a86bf6-2d83-4c5e-b4df-06e4edd42001"
      },
      "execution_count": null,
      "outputs": [
        {
          "output_type": "execute_result",
          "data": {
            "text/plain": [
              "4.0"
            ]
          },
          "metadata": {},
          "execution_count": 9
        }
      ]
    },
    {
      "cell_type": "markdown",
      "source": [
        "**List bilan Seriesni farqi shuki - seriesda indekslarni o'zimiz belgilasak boladi. Xohlasak harf, xohlasak raqam qoysak boladi.**"
      ],
      "metadata": {
        "id": "j6YNiSgoTTra"
      }
    },
    {
      "cell_type": "code",
      "source": [
        "obj2=Series([6,2,3,5,1], index=['a','b','c','d','e'])"
      ],
      "metadata": {
        "id": "qWJM6Dw0TMYs"
      },
      "execution_count": null,
      "outputs": []
    },
    {
      "cell_type": "code",
      "source": [
        "obj2"
      ],
      "metadata": {
        "colab": {
          "base_uri": "https://localhost:8080/"
        },
        "id": "gR5gwV7cUC0-",
        "outputId": "4e76da90-67ac-4426-8166-a6e71632ab65"
      },
      "execution_count": null,
      "outputs": [
        {
          "output_type": "execute_result",
          "data": {
            "text/plain": [
              "a    6\n",
              "b    2\n",
              "c    3\n",
              "d    5\n",
              "e    1\n",
              "dtype: int64"
            ]
          },
          "metadata": {},
          "execution_count": 11
        }
      ]
    },
    {
      "cell_type": "code",
      "source": [
        "obj3=Series([6,7,3,5,4], index=['a','7','c','1','2d'])"
      ],
      "metadata": {
        "id": "zESTvG_UUJhY"
      },
      "execution_count": null,
      "outputs": []
    },
    {
      "cell_type": "code",
      "source": [
        "obj3"
      ],
      "metadata": {
        "colab": {
          "base_uri": "https://localhost:8080/"
        },
        "id": "leXOJ3t9UQa2",
        "outputId": "af5cceba-ef96-4e23-d736-724eeaf110a3"
      },
      "execution_count": null,
      "outputs": [
        {
          "output_type": "execute_result",
          "data": {
            "text/plain": [
              "a     6\n",
              "7     7\n",
              "c     3\n",
              "1     5\n",
              "2d    4\n",
              "dtype: int64"
            ]
          },
          "metadata": {},
          "execution_count": 13
        }
      ]
    },
    {
      "cell_type": "code",
      "source": [
        "obj2.index"
      ],
      "metadata": {
        "colab": {
          "base_uri": "https://localhost:8080/"
        },
        "id": "3o6dsqTWURqd",
        "outputId": "77a53891-3d00-4a1a-8e66-71721ac9de84"
      },
      "execution_count": null,
      "outputs": [
        {
          "output_type": "execute_result",
          "data": {
            "text/plain": [
              "Index(['a', 'b', 'c', 'd', 'e'], dtype='object')"
            ]
          },
          "metadata": {},
          "execution_count": 14
        }
      ]
    },
    {
      "cell_type": "code",
      "source": [
        "obj3.index"
      ],
      "metadata": {
        "colab": {
          "base_uri": "https://localhost:8080/"
        },
        "id": "2QSNaOZ9Umym",
        "outputId": "449f6bd4-7e8b-445e-d7ca-71540ee4bc13"
      },
      "execution_count": null,
      "outputs": [
        {
          "output_type": "execute_result",
          "data": {
            "text/plain": [
              "Index(['a', '7', 'c', '1', '2d'], dtype='object')"
            ]
          },
          "metadata": {},
          "execution_count": 15
        }
      ]
    },
    {
      "cell_type": "code",
      "source": [
        "obj3['2d']"
      ],
      "metadata": {
        "colab": {
          "base_uri": "https://localhost:8080/"
        },
        "id": "lespdStnUoKz",
        "outputId": "6b4c5180-6f1d-4239-9877-c59abfac41a8"
      },
      "execution_count": null,
      "outputs": [
        {
          "output_type": "execute_result",
          "data": {
            "text/plain": [
              "4"
            ]
          },
          "metadata": {},
          "execution_count": 16
        }
      ]
    },
    {
      "cell_type": "markdown",
      "source": [
        "**Series'dagi ma'lumotlarni korish uchun xoxlagan tartibda indeks orqali korib olsak boladi**"
      ],
      "metadata": {
        "id": "sdQ92W2MUydP"
      }
    },
    {
      "cell_type": "code",
      "source": [
        "obj3[['7','1','a']]"
      ],
      "metadata": {
        "colab": {
          "base_uri": "https://localhost:8080/"
        },
        "id": "FwqwttquUsW_",
        "outputId": "9b9d4e19-b807-4315-c678-b1e0a0b976a7"
      },
      "execution_count": null,
      "outputs": [
        {
          "output_type": "execute_result",
          "data": {
            "text/plain": [
              "7    7\n",
              "1    5\n",
              "a    6\n",
              "dtype: int64"
            ]
          },
          "metadata": {},
          "execution_count": 17
        }
      ]
    },
    {
      "cell_type": "markdown",
      "source": [
        "**Arifmetik amallar**"
      ],
      "metadata": {
        "id": "LywraUw9MQBy"
      }
    },
    {
      "cell_type": "code",
      "source": [
        "obj2[obj2>2]"
      ],
      "metadata": {
        "id": "5IUwqcyIUxNt",
        "colab": {
          "base_uri": "https://localhost:8080/"
        },
        "outputId": "34057912-f60b-4cab-eaa6-3cd0c12e12df"
      },
      "execution_count": null,
      "outputs": [
        {
          "output_type": "execute_result",
          "data": {
            "text/plain": [
              "a    6\n",
              "c    3\n",
              "d    5\n",
              "dtype: int64"
            ]
          },
          "metadata": {},
          "execution_count": 19
        }
      ]
    },
    {
      "cell_type": "code",
      "source": [
        "obj2[obj2<5] # qiymati 5 dan kichkina elementlarni topish"
      ],
      "metadata": {
        "colab": {
          "base_uri": "https://localhost:8080/"
        },
        "id": "MOljDKHQMVrP",
        "outputId": "a9d3e61f-48d1-425f-9510-0a7482e6f787"
      },
      "execution_count": null,
      "outputs": [
        {
          "output_type": "execute_result",
          "data": {
            "text/plain": [
              "b    2\n",
              "c    3\n",
              "e    1\n",
              "dtype: int64"
            ]
          },
          "metadata": {},
          "execution_count": 20
        }
      ]
    },
    {
      "cell_type": "code",
      "source": [
        "obj2*2 # songa kopaytirish"
      ],
      "metadata": {
        "colab": {
          "base_uri": "https://localhost:8080/"
        },
        "id": "RXgUIOTrMtDr",
        "outputId": "dda7f6a0-795a-48b0-e2c5-537b9837f4d8"
      },
      "execution_count": null,
      "outputs": [
        {
          "output_type": "execute_result",
          "data": {
            "text/plain": [
              "a    12\n",
              "b     4\n",
              "c     6\n",
              "d    10\n",
              "e     2\n",
              "dtype: int64"
            ]
          },
          "metadata": {},
          "execution_count": 21
        }
      ]
    },
    {
      "cell_type": "code",
      "source": [
        "np.exp(obj2) # eksponentani aniqlash"
      ],
      "metadata": {
        "colab": {
          "base_uri": "https://localhost:8080/"
        },
        "id": "xgRsHfq8Mud4",
        "outputId": "c2de5f72-0a8f-4564-bcb1-772efb585a35"
      },
      "execution_count": null,
      "outputs": [
        {
          "output_type": "execute_result",
          "data": {
            "text/plain": [
              "a    403.428793\n",
              "b      7.389056\n",
              "c     20.085537\n",
              "d    148.413159\n",
              "e      2.718282\n",
              "dtype: float64"
            ]
          },
          "metadata": {},
          "execution_count": 22
        }
      ]
    },
    {
      "cell_type": "markdown",
      "source": [
        "# Lugatdan series yaratish"
      ],
      "metadata": {
        "id": "2BmGfDL_X60M"
      }
    },
    {
      "cell_type": "code",
      "source": [
        "cars_dict = {'Toyota': 50000, 'BMW': 40000, 'Mazda': 60000, 'BYD': 30000, 'Porsche':55000}"
      ],
      "metadata": {
        "id": "L5wYLRKKM1qb"
      },
      "execution_count": null,
      "outputs": []
    },
    {
      "cell_type": "code",
      "source": [],
      "metadata": {
        "id": "E-NMJzCzY4Ph"
      },
      "execution_count": null,
      "outputs": []
    },
    {
      "cell_type": "code",
      "source": [
        "type(cars_dict)"
      ],
      "metadata": {
        "colab": {
          "base_uri": "https://localhost:8080/"
        },
        "id": "F632HnD5YRN3",
        "outputId": "29427301-21b5-4907-c5c1-114862a823c9"
      },
      "execution_count": null,
      "outputs": [
        {
          "output_type": "execute_result",
          "data": {
            "text/plain": [
              "dict"
            ]
          },
          "metadata": {},
          "execution_count": 11
        }
      ]
    },
    {
      "cell_type": "code",
      "source": [
        "cars1 = Series(cars_dict) # lugatdan series yaratish"
      ],
      "metadata": {
        "id": "2AEio8A8YSqm"
      },
      "execution_count": null,
      "outputs": []
    },
    {
      "cell_type": "code",
      "source": [
        "cars1 = Series({'Toyota': 50000, 'BMW': 40000, 'Mazda': 60000, 'BYD': 30000, 'Porsche':55000}) # lugatdan series yaratish 2 chi usuli"
      ],
      "metadata": {
        "id": "XOdU719oY5e9"
      },
      "execution_count": null,
      "outputs": []
    },
    {
      "cell_type": "code",
      "source": [
        "type(cars1)"
      ],
      "metadata": {
        "colab": {
          "base_uri": "https://localhost:8080/"
        },
        "id": "k0PJxk9VYYFU",
        "outputId": "c94faa4f-bcf2-498e-c62a-dcf7f2d05ffe"
      },
      "execution_count": null,
      "outputs": [
        {
          "output_type": "execute_result",
          "data": {
            "text/plain": [
              "pandas.core.series.Series"
            ]
          },
          "metadata": {},
          "execution_count": 7
        }
      ]
    },
    {
      "cell_type": "code",
      "source": [
        "cars1"
      ],
      "metadata": {
        "colab": {
          "base_uri": "https://localhost:8080/"
        },
        "id": "OsjP12X8Yd5_",
        "outputId": "2978f6a5-c03b-45f0-bb3a-0eb9faa9ad81"
      },
      "execution_count": null,
      "outputs": [
        {
          "output_type": "execute_result",
          "data": {
            "text/plain": [
              "Toyota     50000\n",
              "BMW        40000\n",
              "Mazda      60000\n",
              "BYD        30000\n",
              "Porsche    55000\n",
              "dtype: int64"
            ]
          },
          "metadata": {},
          "execution_count": 8
        }
      ]
    },
    {
      "cell_type": "code",
      "source": [
        "'Toyota' in cars1"
      ],
      "metadata": {
        "colab": {
          "base_uri": "https://localhost:8080/"
        },
        "id": "6D4hAiyzYfCS",
        "outputId": "a94ba291-2810-491f-d543-8e86b2409614"
      },
      "execution_count": null,
      "outputs": [
        {
          "output_type": "execute_result",
          "data": {
            "text/plain": [
              "True"
            ]
          },
          "metadata": {},
          "execution_count": 9
        }
      ]
    },
    {
      "cell_type": "code",
      "source": [
        "'GM' in cars1"
      ],
      "metadata": {
        "colab": {
          "base_uri": "https://localhost:8080/"
        },
        "id": "nUSgBQQNYiLp",
        "outputId": "5cefcce3-38c0-4a7e-f172-59d7bfb8946a"
      },
      "execution_count": null,
      "outputs": [
        {
          "output_type": "execute_result",
          "data": {
            "text/plain": [
              "False"
            ]
          },
          "metadata": {},
          "execution_count": 10
        }
      ]
    },
    {
      "cell_type": "code",
      "source": [
        "cars1['Mazda'] # index orqali murojaat qilish"
      ],
      "metadata": {
        "colab": {
          "base_uri": "https://localhost:8080/"
        },
        "id": "eYpbrUQiYka0",
        "outputId": "14e39e97-6346-4a6f-a918-a18145668175"
      },
      "execution_count": null,
      "outputs": [
        {
          "output_type": "execute_result",
          "data": {
            "text/plain": [
              "60000"
            ]
          },
          "metadata": {},
          "execution_count": 11
        }
      ]
    },
    {
      "cell_type": "markdown",
      "source": [
        "**Index ketma-ketligini o`zgartirish**\n",
        "\n",
        "**Index qoshish**"
      ],
      "metadata": {
        "id": "7U4JmegaZkvp"
      }
    },
    {
      "cell_type": "code",
      "source": [
        "models = ['BMW', 'BYD', 'Mazda', 'Jaguar', 'Toyota', 'Porsche', 'Mercedes']"
      ],
      "metadata": {
        "id": "DZMj8E8AZj72"
      },
      "execution_count": null,
      "outputs": []
    },
    {
      "cell_type": "code",
      "source": [
        "cars2 = Series(cars_dict, index = models)"
      ],
      "metadata": {
        "id": "L-dLBhD6YqnA"
      },
      "execution_count": null,
      "outputs": []
    },
    {
      "cell_type": "code",
      "source": [
        "cars2 # index'da mavjud bo`lmagan qiymatlarga 'NaN' qiymatlar tushib qoladi\n"
      ],
      "metadata": {
        "colab": {
          "base_uri": "https://localhost:8080/"
        },
        "id": "Zs1r2HE6aJni",
        "outputId": "67e81a8d-6d7e-48d1-e290-ff4d9d8537f3"
      },
      "execution_count": null,
      "outputs": [
        {
          "output_type": "execute_result",
          "data": {
            "text/plain": [
              "BMW         40000.0\n",
              "BYD         30000.0\n",
              "Mazda       60000.0\n",
              "Jaguar          NaN\n",
              "Toyota      50000.0\n",
              "Porsche     55000.0\n",
              "Mercedes        NaN\n",
              "dtype: float64"
            ]
          },
          "metadata": {},
          "execution_count": 16
        }
      ]
    },
    {
      "cell_type": "markdown",
      "source": [
        "## Series metodlari"
      ],
      "metadata": {
        "id": "T_SexJ4OfKkP"
      }
    },
    {
      "cell_type": "code",
      "source": [
        "cars2.isnull() # qiymatlari nol bolgan elementlar bolsa, True qaytaradi"
      ],
      "metadata": {
        "colab": {
          "base_uri": "https://localhost:8080/"
        },
        "id": "o7XhApFqaK1s",
        "outputId": "cf4b0ef4-6d51-4e03-8abe-55e5a11ad398"
      },
      "execution_count": null,
      "outputs": [
        {
          "output_type": "execute_result",
          "data": {
            "text/plain": [
              "BMW         False\n",
              "BYD         False\n",
              "Mazda       False\n",
              "Jaguar       True\n",
              "Toyota      False\n",
              "Porsche     False\n",
              "Mercedes     True\n",
              "dtype: bool"
            ]
          },
          "metadata": {},
          "execution_count": 17
        }
      ]
    },
    {
      "cell_type": "code",
      "source": [
        "cars2.notnull() # qiymatlari nolga teng bo`lmagan elementlar bolsa, True qaytaradi"
      ],
      "metadata": {
        "colab": {
          "base_uri": "https://localhost:8080/"
        },
        "id": "jxuUeCa4e-e0",
        "outputId": "4d31cfe7-d56b-44fb-eace-274ed3c4e657"
      },
      "execution_count": null,
      "outputs": [
        {
          "output_type": "execute_result",
          "data": {
            "text/plain": [
              "BMW          True\n",
              "BYD          True\n",
              "Mazda        True\n",
              "Jaguar      False\n",
              "Toyota       True\n",
              "Porsche      True\n",
              "Mercedes    False\n",
              "dtype: bool"
            ]
          },
          "metadata": {},
          "execution_count": 18
        }
      ]
    },
    {
      "cell_type": "code",
      "source": [
        "cars1"
      ],
      "metadata": {
        "colab": {
          "base_uri": "https://localhost:8080/"
        },
        "id": "X3xKKAz2fEQ7",
        "outputId": "a3a1374d-541c-42f2-c55f-220ae3bbdca8"
      },
      "execution_count": null,
      "outputs": [
        {
          "output_type": "execute_result",
          "data": {
            "text/plain": [
              "Toyota     50000\n",
              "BMW        40000\n",
              "Mazda      60000\n",
              "BYD        30000\n",
              "Porsche    55000\n",
              "dtype: int64"
            ]
          },
          "metadata": {},
          "execution_count": 21
        }
      ]
    },
    {
      "cell_type": "code",
      "source": [
        "cars2"
      ],
      "metadata": {
        "colab": {
          "base_uri": "https://localhost:8080/"
        },
        "id": "3J6u9t2Ufrrc",
        "outputId": "4a5e6913-eb63-4070-c801-74dc177edd94"
      },
      "execution_count": null,
      "outputs": [
        {
          "output_type": "execute_result",
          "data": {
            "text/plain": [
              "BMW         40000.0\n",
              "BYD         30000.0\n",
              "Mazda       60000.0\n",
              "Jaguar          NaN\n",
              "Toyota      50000.0\n",
              "Porsche     55000.0\n",
              "Mercedes        NaN\n",
              "dtype: float64"
            ]
          },
          "metadata": {},
          "execution_count": 22
        }
      ]
    },
    {
      "cell_type": "markdown",
      "source": [
        "2 ta seriesni qoshish"
      ],
      "metadata": {
        "id": "gIoSyxUef1AP"
      }
    },
    {
      "cell_type": "code",
      "source": [
        "cars1 + cars2 # index'lari bir xil bolgan elementlar qoshiladi"
      ],
      "metadata": {
        "colab": {
          "base_uri": "https://localhost:8080/"
        },
        "id": "3U7RjMsIfsfy",
        "outputId": "f0a6687f-f125-42a4-a019-d3935da23dc9"
      },
      "execution_count": null,
      "outputs": [
        {
          "output_type": "execute_result",
          "data": {
            "text/plain": [
              "BMW          80000.0\n",
              "BYD          60000.0\n",
              "Jaguar           NaN\n",
              "Mazda       120000.0\n",
              "Mercedes         NaN\n",
              "Porsche     110000.0\n",
              "Toyota      100000.0\n",
              "dtype: float64"
            ]
          },
          "metadata": {},
          "execution_count": 23
        }
      ]
    },
    {
      "cell_type": "markdown",
      "source": [
        "Nom berish"
      ],
      "metadata": {
        "id": "V98exWcpgbtZ"
      }
    },
    {
      "cell_type": "code",
      "source": [
        "cars1.name = 'Avtosalon' # Seriesga nom berish"
      ],
      "metadata": {
        "id": "C8YJL96Efusp"
      },
      "execution_count": null,
      "outputs": []
    },
    {
      "cell_type": "code",
      "source": [
        "cars1.index.name = 'Modellar' # indexga nom bersa ham boladi"
      ],
      "metadata": {
        "id": "t9j5fg-SgRub"
      },
      "execution_count": null,
      "outputs": []
    },
    {
      "cell_type": "code",
      "source": [
        "cars1"
      ],
      "metadata": {
        "colab": {
          "base_uri": "https://localhost:8080/"
        },
        "id": "qwRp0GZ3gY8m",
        "outputId": "69ea8e78-db0e-4121-a8db-4bbc4d64aef6"
      },
      "execution_count": null,
      "outputs": [
        {
          "output_type": "execute_result",
          "data": {
            "text/plain": [
              "Modellar\n",
              "Toyota     50000\n",
              "BMW        40000\n",
              "Mazda      60000\n",
              "BYD        30000\n",
              "Porsche    55000\n",
              "Name: Avtosalon, dtype: int64"
            ]
          },
          "metadata": {},
          "execution_count": 26
        }
      ]
    },
    {
      "cell_type": "code",
      "source": [
        "cars2.index"
      ],
      "metadata": {
        "id": "R3fbigO7gaR8",
        "colab": {
          "base_uri": "https://localhost:8080/"
        },
        "outputId": "330b3f78-a227-4732-8a56-1ab52b68d9d9"
      },
      "execution_count": null,
      "outputs": [
        {
          "output_type": "execute_result",
          "data": {
            "text/plain": [
              "Index(['BMW', 'BYD', 'Mazda', 'Jaguar', 'Toyota', 'Porsche', 'Mercedes'], dtype='object')"
            ]
          },
          "metadata": {},
          "execution_count": 20
        }
      ]
    },
    {
      "cell_type": "code",
      "source": [
        "cars2.values\n"
      ],
      "metadata": {
        "colab": {
          "base_uri": "https://localhost:8080/"
        },
        "id": "FflrtSexPedx",
        "outputId": "17d917c7-7c2c-438f-9c26-5d71070648ec"
      },
      "execution_count": null,
      "outputs": [
        {
          "output_type": "execute_result",
          "data": {
            "text/plain": [
              "array([40000., 30000., 60000.,    nan, 50000., 55000.,    nan])"
            ]
          },
          "metadata": {},
          "execution_count": 21
        }
      ]
    },
    {
      "cell_type": "code",
      "source": [
        "cars2.hasnans"
      ],
      "metadata": {
        "colab": {
          "base_uri": "https://localhost:8080/"
        },
        "id": "KjKxVSRKSc8E",
        "outputId": "fa037564-934d-4893-f2da-0397e6692a62"
      },
      "execution_count": null,
      "outputs": [
        {
          "output_type": "execute_result",
          "data": {
            "text/plain": [
              "True"
            ]
          },
          "metadata": {},
          "execution_count": 23
        }
      ]
    },
    {
      "cell_type": "code",
      "source": [
        "cars2.dtype"
      ],
      "metadata": {
        "colab": {
          "base_uri": "https://localhost:8080/"
        },
        "id": "KIL58iBzSfjW",
        "outputId": "eec48108-ef54-4819-eb92-ee864671982e"
      },
      "execution_count": null,
      "outputs": [
        {
          "output_type": "execute_result",
          "data": {
            "text/plain": [
              "dtype('float64')"
            ]
          },
          "metadata": {},
          "execution_count": 24
        }
      ]
    },
    {
      "cell_type": "code",
      "source": [
        "cars2.is_unique"
      ],
      "metadata": {
        "colab": {
          "base_uri": "https://localhost:8080/"
        },
        "id": "5D6XdepHSnTG",
        "outputId": "88f3d385-ddb4-4e68-fdee-95db084c9676"
      },
      "execution_count": null,
      "outputs": [
        {
          "output_type": "execute_result",
          "data": {
            "text/plain": [
              "False"
            ]
          },
          "metadata": {},
          "execution_count": 25
        }
      ]
    },
    {
      "cell_type": "code",
      "source": [
        "cars2"
      ],
      "metadata": {
        "colab": {
          "base_uri": "https://localhost:8080/"
        },
        "id": "35H_5sajSqrQ",
        "outputId": "8d372310-a44a-4c23-fec7-9f4d76760c1c"
      },
      "execution_count": null,
      "outputs": [
        {
          "output_type": "execute_result",
          "data": {
            "text/plain": [
              "BMW         40000.0\n",
              "BYD         30000.0\n",
              "Mazda       60000.0\n",
              "Jaguar          NaN\n",
              "Toyota      50000.0\n",
              "Porsche     55000.0\n",
              "Mercedes        NaN\n",
              "dtype: float64"
            ]
          },
          "metadata": {},
          "execution_count": 26
        }
      ]
    },
    {
      "cell_type": "code",
      "source": [
        "cars2.shape"
      ],
      "metadata": {
        "colab": {
          "base_uri": "https://localhost:8080/"
        },
        "id": "dKY2FtRcSwjU",
        "outputId": "7b81f2a5-cdc0-4479-e96e-ef1214a7cf6e"
      },
      "execution_count": null,
      "outputs": [
        {
          "output_type": "execute_result",
          "data": {
            "text/plain": [
              "(7,)"
            ]
          },
          "metadata": {},
          "execution_count": 27
        }
      ]
    },
    {
      "cell_type": "code",
      "source": [
        "cars2.size"
      ],
      "metadata": {
        "colab": {
          "base_uri": "https://localhost:8080/"
        },
        "id": "FDZ8LBK8S3-z",
        "outputId": "aeadf7db-e6ab-4565-c50d-32edc4a1d66b"
      },
      "execution_count": null,
      "outputs": [
        {
          "output_type": "execute_result",
          "data": {
            "text/plain": [
              "7"
            ]
          },
          "metadata": {},
          "execution_count": 28
        }
      ]
    },
    {
      "cell_type": "code",
      "source": [
        "cars2.iloc[0]"
      ],
      "metadata": {
        "colab": {
          "base_uri": "https://localhost:8080/"
        },
        "id": "yExNASd-S6Iy",
        "outputId": "a99936b6-10fe-4721-9a52-6b05ba33ffc9"
      },
      "execution_count": null,
      "outputs": [
        {
          "output_type": "execute_result",
          "data": {
            "text/plain": [
              "40000.0"
            ]
          },
          "metadata": {},
          "execution_count": 29
        }
      ]
    },
    {
      "cell_type": "code",
      "source": [
        "cars2['BMW']"
      ],
      "metadata": {
        "colab": {
          "base_uri": "https://localhost:8080/"
        },
        "id": "s0-8LdxXTFly",
        "outputId": "f2f5d9a5-9b61-4720-b77d-7dcbb02b0fb2"
      },
      "execution_count": null,
      "outputs": [
        {
          "output_type": "execute_result",
          "data": {
            "text/plain": [
              "40000.0"
            ]
          },
          "metadata": {},
          "execution_count": 31
        }
      ]
    },
    {
      "cell_type": "code",
      "source": [
        "cars2.loc['BMW']"
      ],
      "metadata": {
        "colab": {
          "base_uri": "https://localhost:8080/"
        },
        "id": "cSGg3yiuTKeB",
        "outputId": "59d250da-85c6-4f63-b4f0-fa8196956241"
      },
      "execution_count": null,
      "outputs": [
        {
          "output_type": "execute_result",
          "data": {
            "text/plain": [
              "40000.0"
            ]
          },
          "metadata": {},
          "execution_count": 32
        }
      ]
    },
    {
      "cell_type": "code",
      "source": [
        "cars2.max()"
      ],
      "metadata": {
        "id": "2HGOLFaVTWsU",
        "outputId": "46ca8b7f-0bdc-47da-b4c0-d248cd84cc4c",
        "colab": {
          "base_uri": "https://localhost:8080/"
        }
      },
      "execution_count": null,
      "outputs": [
        {
          "output_type": "execute_result",
          "data": {
            "text/plain": [
              "60000.0"
            ]
          },
          "metadata": {},
          "execution_count": 33
        }
      ]
    },
    {
      "cell_type": "code",
      "source": [
        "cars2.min()"
      ],
      "metadata": {
        "id": "xChc1HKkTadw",
        "outputId": "5c79261c-82d5-41d4-9b0d-37910046e258",
        "colab": {
          "base_uri": "https://localhost:8080/"
        }
      },
      "execution_count": null,
      "outputs": [
        {
          "output_type": "execute_result",
          "data": {
            "text/plain": [
              "30000.0"
            ]
          },
          "metadata": {},
          "execution_count": 34
        }
      ]
    },
    {
      "cell_type": "code",
      "source": [
        "cars2.mean()"
      ],
      "metadata": {
        "id": "fgiRT_40Tbvt",
        "outputId": "55e8bdc7-30e3-47c4-e65e-8489239e20c6",
        "colab": {
          "base_uri": "https://localhost:8080/"
        }
      },
      "execution_count": null,
      "outputs": [
        {
          "output_type": "execute_result",
          "data": {
            "text/plain": [
              "47000.0"
            ]
          },
          "metadata": {},
          "execution_count": 35
        }
      ]
    },
    {
      "cell_type": "code",
      "source": [],
      "metadata": {
        "id": "uJJGgczcTdGL"
      },
      "execution_count": null,
      "outputs": []
    }
  ]
}