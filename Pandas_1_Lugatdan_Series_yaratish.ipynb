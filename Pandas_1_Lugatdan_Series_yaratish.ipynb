{
  "nbformat": 4,
  "nbformat_minor": 0,
  "metadata": {
    "colab": {
      "provenance": [],
      "toc_visible": true,
      "authorship_tag": "ABX9TyM5bA/E6bwSDiSGAKKi9tmr",
      "include_colab_link": true
    },
    "kernelspec": {
      "name": "python3",
      "display_name": "Python 3"
    },
    "language_info": {
      "name": "python"
    }
  },
  "cells": [
    {
      "cell_type": "markdown",
      "metadata": {
        "id": "view-in-github",
        "colab_type": "text"
      },
      "source": [
        "<a href=\"https://colab.research.google.com/github/prof-programmer/learn_data_sciense/blob/main/Pandas_1_Lugatdan_Series_yaratish.ipynb\" target=\"_parent\"><img src=\"https://colab.research.google.com/assets/colab-badge.svg\" alt=\"Open In Colab\"/></a>"
      ]
    },
    {
      "cell_type": "markdown",
      "source": [
        "Pandas kutubxonasi bilan tanishish"
      ],
      "metadata": {
        "id": "uGweGc3P9E69"
      }
    },
    {
      "cell_type": "code",
      "execution_count": null,
      "metadata": {
        "id": "kJ2zp2vq8uvS"
      },
      "outputs": [],
      "source": [
        "import pandas as pd\n"
      ]
    },
    {
      "cell_type": "code",
      "source": [
        "import numpy as np"
      ],
      "metadata": {
        "id": "32TAvgem80O7"
      },
      "execution_count": null,
      "outputs": []
    },
    {
      "cell_type": "markdown",
      "source": [
        "Series va dataframe ma'lumotlar tuzilmasi bor"
      ],
      "metadata": {
        "id": "br8-LGMV9UzS"
      }
    },
    {
      "cell_type": "code",
      "source": [
        "from pandas import Series #Series ma'lumotlar tuzilmasi"
      ],
      "metadata": {
        "id": "KvW4sbv_9SPW"
      },
      "execution_count": null,
      "outputs": []
    },
    {
      "cell_type": "code",
      "source": [
        "obj = Series([4,5,6,-6.5])"
      ],
      "metadata": {
        "id": "U0y8efyw9bDP"
      },
      "execution_count": null,
      "outputs": []
    },
    {
      "cell_type": "code",
      "source": [
        "type(obj)"
      ],
      "metadata": {
        "colab": {
          "base_uri": "https://localhost:8080/"
        },
        "id": "HBOfj95X9oNF",
        "outputId": "7f829ec4-0180-430c-f3aa-1e51cb024a34"
      },
      "execution_count": null,
      "outputs": [
        {
          "output_type": "execute_result",
          "data": {
            "text/plain": [
              "pandas.core.series.Series"
            ]
          },
          "metadata": {},
          "execution_count": 5
        }
      ]
    },
    {
      "cell_type": "code",
      "source": [
        "print(obj)"
      ],
      "metadata": {
        "colab": {
          "base_uri": "https://localhost:8080/"
        },
        "id": "F9btsXUo9pHV",
        "outputId": "f13d5959-7e9e-4a0a-8225-ea9ade3e106f"
      },
      "execution_count": null,
      "outputs": [
        {
          "output_type": "stream",
          "name": "stdout",
          "text": [
            "0    4.0\n",
            "1    5.0\n",
            "2    6.0\n",
            "3   -6.5\n",
            "dtype: float64\n"
          ]
        }
      ]
    },
    {
      "cell_type": "markdown",
      "source": [
        "# Qiymatlarini korish"
      ],
      "metadata": {
        "id": "zsZ6jIv2Svkt"
      }
    },
    {
      "cell_type": "code",
      "source": [
        "obj.values #qiymatlarni ko`rish (values)"
      ],
      "metadata": {
        "id": "ZS_HdoJc9tCZ",
        "colab": {
          "base_uri": "https://localhost:8080/"
        },
        "outputId": "06b9f325-3eab-426e-db68-15bf4c810c19"
      },
      "execution_count": null,
      "outputs": [
        {
          "output_type": "execute_result",
          "data": {
            "text/plain": [
              "array([ 4. ,  5. ,  6. , -6.5])"
            ]
          },
          "metadata": {},
          "execution_count": 7
        }
      ]
    },
    {
      "cell_type": "markdown",
      "source": [
        "# Indekslarini ko`rish"
      ],
      "metadata": {
        "id": "5vCwSczkS0oD"
      }
    },
    {
      "cell_type": "code",
      "source": [
        "obj.index"
      ],
      "metadata": {
        "colab": {
          "base_uri": "https://localhost:8080/"
        },
        "id": "ML0EOh_rSeuw",
        "outputId": "93a58329-5aeb-483e-cc6b-1d1a7ae5ec99"
      },
      "execution_count": null,
      "outputs": [
        {
          "output_type": "execute_result",
          "data": {
            "text/plain": [
              "RangeIndex(start=0, stop=4, step=1)"
            ]
          },
          "metadata": {},
          "execution_count": 8
        }
      ]
    },
    {
      "cell_type": "markdown",
      "source": [
        "# Indeks orqali izlash"
      ],
      "metadata": {
        "id": "23K0CFoTTF9O"
      }
    },
    {
      "cell_type": "code",
      "source": [
        "obj[0]"
      ],
      "metadata": {
        "colab": {
          "base_uri": "https://localhost:8080/"
        },
        "id": "JRAdMalyS3RW",
        "outputId": "04a86bf6-2d83-4c5e-b4df-06e4edd42001"
      },
      "execution_count": null,
      "outputs": [
        {
          "output_type": "execute_result",
          "data": {
            "text/plain": [
              "4.0"
            ]
          },
          "metadata": {},
          "execution_count": 9
        }
      ]
    },
    {
      "cell_type": "markdown",
      "source": [
        "**List bilan Seriesni farqi shuki - seriesda indekslarni o'zimiz belgilasak boladi. Xohlasak harf, xohlasak raqam qoysak boladi.**"
      ],
      "metadata": {
        "id": "j6YNiSgoTTra"
      }
    },
    {
      "cell_type": "code",
      "source": [
        "obj2=Series([6,2,3,5,1], index=['a','b','c','d','e'])"
      ],
      "metadata": {
        "id": "qWJM6Dw0TMYs"
      },
      "execution_count": null,
      "outputs": []
    },
    {
      "cell_type": "code",
      "source": [
        "obj2"
      ],
      "metadata": {
        "colab": {
          "base_uri": "https://localhost:8080/"
        },
        "id": "gR5gwV7cUC0-",
        "outputId": "4e76da90-67ac-4426-8166-a6e71632ab65"
      },
      "execution_count": null,
      "outputs": [
        {
          "output_type": "execute_result",
          "data": {
            "text/plain": [
              "a    6\n",
              "b    2\n",
              "c    3\n",
              "d    5\n",
              "e    1\n",
              "dtype: int64"
            ]
          },
          "metadata": {},
          "execution_count": 11
        }
      ]
    },
    {
      "cell_type": "code",
      "source": [
        "obj3=Series([6,7,3,5,4], index=['a','7','c','1','2d'])"
      ],
      "metadata": {
        "id": "zESTvG_UUJhY"
      },
      "execution_count": null,
      "outputs": []
    },
    {
      "cell_type": "code",
      "source": [
        "obj3"
      ],
      "metadata": {
        "colab": {
          "base_uri": "https://localhost:8080/"
        },
        "id": "leXOJ3t9UQa2",
        "outputId": "af5cceba-ef96-4e23-d736-724eeaf110a3"
      },
      "execution_count": null,
      "outputs": [
        {
          "output_type": "execute_result",
          "data": {
            "text/plain": [
              "a     6\n",
              "7     7\n",
              "c     3\n",
              "1     5\n",
              "2d    4\n",
              "dtype: int64"
            ]
          },
          "metadata": {},
          "execution_count": 13
        }
      ]
    },
    {
      "cell_type": "code",
      "source": [
        "obj2.index"
      ],
      "metadata": {
        "colab": {
          "base_uri": "https://localhost:8080/"
        },
        "id": "3o6dsqTWURqd",
        "outputId": "77a53891-3d00-4a1a-8e66-71721ac9de84"
      },
      "execution_count": null,
      "outputs": [
        {
          "output_type": "execute_result",
          "data": {
            "text/plain": [
              "Index(['a', 'b', 'c', 'd', 'e'], dtype='object')"
            ]
          },
          "metadata": {},
          "execution_count": 14
        }
      ]
    },
    {
      "cell_type": "code",
      "source": [
        "obj3.index"
      ],
      "metadata": {
        "colab": {
          "base_uri": "https://localhost:8080/"
        },
        "id": "2QSNaOZ9Umym",
        "outputId": "449f6bd4-7e8b-445e-d7ca-71540ee4bc13"
      },
      "execution_count": null,
      "outputs": [
        {
          "output_type": "execute_result",
          "data": {
            "text/plain": [
              "Index(['a', '7', 'c', '1', '2d'], dtype='object')"
            ]
          },
          "metadata": {},
          "execution_count": 15
        }
      ]
    },
    {
      "cell_type": "code",
      "source": [
        "obj3['2d']"
      ],
      "metadata": {
        "colab": {
          "base_uri": "https://localhost:8080/"
        },
        "id": "lespdStnUoKz",
        "outputId": "6b4c5180-6f1d-4239-9877-c59abfac41a8"
      },
      "execution_count": null,
      "outputs": [
        {
          "output_type": "execute_result",
          "data": {
            "text/plain": [
              "4"
            ]
          },
          "metadata": {},
          "execution_count": 16
        }
      ]
    },
    {
      "cell_type": "markdown",
      "source": [
        "**Series'dagi ma'lumotlarni korish uchun xoxlagan tartibda indeks orqali korib olsak boladi**"
      ],
      "metadata": {
        "id": "sdQ92W2MUydP"
      }
    },
    {
      "cell_type": "code",
      "source": [
        "obj3[['7','1','a']]"
      ],
      "metadata": {
        "colab": {
          "base_uri": "https://localhost:8080/"
        },
        "id": "FwqwttquUsW_",
        "outputId": "9b9d4e19-b807-4315-c678-b1e0a0b976a7"
      },
      "execution_count": null,
      "outputs": [
        {
          "output_type": "execute_result",
          "data": {
            "text/plain": [
              "7    7\n",
              "1    5\n",
              "a    6\n",
              "dtype: int64"
            ]
          },
          "metadata": {},
          "execution_count": 17
        }
      ]
    },
    {
      "cell_type": "markdown",
      "source": [
        "**Arifmetik amallar**"
      ],
      "metadata": {
        "id": "LywraUw9MQBy"
      }
    },
    {
      "cell_type": "code",
      "source": [
        "obj2[obj2>2]"
      ],
      "metadata": {
        "id": "5IUwqcyIUxNt",
        "colab": {
          "base_uri": "https://localhost:8080/"
        },
        "outputId": "34057912-f60b-4cab-eaa6-3cd0c12e12df"
      },
      "execution_count": null,
      "outputs": [
        {
          "output_type": "execute_result",
          "data": {
            "text/plain": [
              "a    6\n",
              "c    3\n",
              "d    5\n",
              "dtype: int64"
            ]
          },
          "metadata": {},
          "execution_count": 19
        }
      ]
    },
    {
      "cell_type": "code",
      "source": [
        "obj2[obj2<5] # qiymati 5 dan kichkina elementlarni topish"
      ],
      "metadata": {
        "colab": {
          "base_uri": "https://localhost:8080/"
        },
        "id": "MOljDKHQMVrP",
        "outputId": "a9d3e61f-48d1-425f-9510-0a7482e6f787"
      },
      "execution_count": null,
      "outputs": [
        {
          "output_type": "execute_result",
          "data": {
            "text/plain": [
              "b    2\n",
              "c    3\n",
              "e    1\n",
              "dtype: int64"
            ]
          },
          "metadata": {},
          "execution_count": 20
        }
      ]
    },
    {
      "cell_type": "code",
      "source": [
        "obj2*2 # songa kopaytirish"
      ],
      "metadata": {
        "colab": {
          "base_uri": "https://localhost:8080/"
        },
        "id": "RXgUIOTrMtDr",
        "outputId": "dda7f6a0-795a-48b0-e2c5-537b9837f4d8"
      },
      "execution_count": null,
      "outputs": [
        {
          "output_type": "execute_result",
          "data": {
            "text/plain": [
              "a    12\n",
              "b     4\n",
              "c     6\n",
              "d    10\n",
              "e     2\n",
              "dtype: int64"
            ]
          },
          "metadata": {},
          "execution_count": 21
        }
      ]
    },
    {
      "cell_type": "code",
      "source": [
        "np.exp(obj2) # eksponentani aniqlash"
      ],
      "metadata": {
        "colab": {
          "base_uri": "https://localhost:8080/"
        },
        "id": "xgRsHfq8Mud4",
        "outputId": "c2de5f72-0a8f-4564-bcb1-772efb585a35"
      },
      "execution_count": null,
      "outputs": [
        {
          "output_type": "execute_result",
          "data": {
            "text/plain": [
              "a    403.428793\n",
              "b      7.389056\n",
              "c     20.085537\n",
              "d    148.413159\n",
              "e      2.718282\n",
              "dtype: float64"
            ]
          },
          "metadata": {},
          "execution_count": 22
        }
      ]
    },
    {
      "cell_type": "markdown",
      "source": [
        "# Lugatdan series yaratish"
      ],
      "metadata": {
        "id": "2BmGfDL_X60M"
      }
    },
    {
      "cell_type": "code",
      "source": [
        "cars_dict = {'Toyota': 50000, 'BMW': 40000, 'Mazda': 60000, 'BYD': 30000, 'Porsche':55000}"
      ],
      "metadata": {
        "id": "L5wYLRKKM1qb"
      },
      "execution_count": null,
      "outputs": []
    },
    {
      "cell_type": "code",
      "source": [],
      "metadata": {
        "id": "E-NMJzCzY4Ph"
      },
      "execution_count": null,
      "outputs": []
    },
    {
      "cell_type": "code",
      "source": [
        "type(cars_dict)"
      ],
      "metadata": {
        "colab": {
          "base_uri": "https://localhost:8080/"
        },
        "id": "F632HnD5YRN3",
        "outputId": "de40e9f5-bf22-4e6c-b8c1-f781779ca7f3"
      },
      "execution_count": null,
      "outputs": [
        {
          "output_type": "execute_result",
          "data": {
            "text/plain": [
              "dict"
            ]
          },
          "metadata": {},
          "execution_count": 5
        }
      ]
    },
    {
      "cell_type": "code",
      "source": [
        "cars1 = Series(cars_dict) # lugatdan series yaratish"
      ],
      "metadata": {
        "id": "2AEio8A8YSqm"
      },
      "execution_count": null,
      "outputs": []
    },
    {
      "cell_type": "code",
      "source": [
        "cars1 = Series({'Toyota': 50000, 'BMW': 40000, 'Mazda': 60000, 'BYD': 30000, 'Porsche':55000}) # lugatdan series yaratish 2 chi usuli"
      ],
      "metadata": {
        "id": "XOdU719oY5e9"
      },
      "execution_count": null,
      "outputs": []
    },
    {
      "cell_type": "code",
      "source": [
        "type(cars1)"
      ],
      "metadata": {
        "colab": {
          "base_uri": "https://localhost:8080/"
        },
        "id": "k0PJxk9VYYFU",
        "outputId": "c94faa4f-bcf2-498e-c62a-dcf7f2d05ffe"
      },
      "execution_count": null,
      "outputs": [
        {
          "output_type": "execute_result",
          "data": {
            "text/plain": [
              "pandas.core.series.Series"
            ]
          },
          "metadata": {},
          "execution_count": 7
        }
      ]
    },
    {
      "cell_type": "code",
      "source": [
        "cars1"
      ],
      "metadata": {
        "colab": {
          "base_uri": "https://localhost:8080/"
        },
        "id": "OsjP12X8Yd5_",
        "outputId": "2978f6a5-c03b-45f0-bb3a-0eb9faa9ad81"
      },
      "execution_count": null,
      "outputs": [
        {
          "output_type": "execute_result",
          "data": {
            "text/plain": [
              "Toyota     50000\n",
              "BMW        40000\n",
              "Mazda      60000\n",
              "BYD        30000\n",
              "Porsche    55000\n",
              "dtype: int64"
            ]
          },
          "metadata": {},
          "execution_count": 8
        }
      ]
    },
    {
      "cell_type": "code",
      "source": [
        "'Toyota' in cars1"
      ],
      "metadata": {
        "colab": {
          "base_uri": "https://localhost:8080/"
        },
        "id": "6D4hAiyzYfCS",
        "outputId": "a94ba291-2810-491f-d543-8e86b2409614"
      },
      "execution_count": null,
      "outputs": [
        {
          "output_type": "execute_result",
          "data": {
            "text/plain": [
              "True"
            ]
          },
          "metadata": {},
          "execution_count": 9
        }
      ]
    },
    {
      "cell_type": "code",
      "source": [
        "'GM' in cars1"
      ],
      "metadata": {
        "colab": {
          "base_uri": "https://localhost:8080/"
        },
        "id": "nUSgBQQNYiLp",
        "outputId": "5cefcce3-38c0-4a7e-f172-59d7bfb8946a"
      },
      "execution_count": null,
      "outputs": [
        {
          "output_type": "execute_result",
          "data": {
            "text/plain": [
              "False"
            ]
          },
          "metadata": {},
          "execution_count": 10
        }
      ]
    },
    {
      "cell_type": "code",
      "source": [
        "cars1['Mazda'] # index orqali murojaat qilish"
      ],
      "metadata": {
        "colab": {
          "base_uri": "https://localhost:8080/"
        },
        "id": "eYpbrUQiYka0",
        "outputId": "14e39e97-6346-4a6f-a918-a18145668175"
      },
      "execution_count": null,
      "outputs": [
        {
          "output_type": "execute_result",
          "data": {
            "text/plain": [
              "60000"
            ]
          },
          "metadata": {},
          "execution_count": 11
        }
      ]
    },
    {
      "cell_type": "markdown",
      "source": [
        "**Index ketma-ketligini o`zgartirish**\n",
        "\n",
        "**Index qoshish**"
      ],
      "metadata": {
        "id": "7U4JmegaZkvp"
      }
    },
    {
      "cell_type": "code",
      "source": [
        "models = ['BMW', 'BYD', 'Mazda', 'Jaguar', 'Toyota', 'Porsche', 'Mercedes']"
      ],
      "metadata": {
        "id": "DZMj8E8AZj72"
      },
      "execution_count": null,
      "outputs": []
    },
    {
      "cell_type": "code",
      "source": [
        "cars2 = Series(cars_dict, index = models)"
      ],
      "metadata": {
        "id": "L-dLBhD6YqnA"
      },
      "execution_count": null,
      "outputs": []
    },
    {
      "cell_type": "code",
      "source": [
        "cars2 # index'da mavjud bo`lmagan qiymatlarga 'NaN' qiymatlar tushib qoladi\n"
      ],
      "metadata": {
        "colab": {
          "base_uri": "https://localhost:8080/"
        },
        "id": "Zs1r2HE6aJni",
        "outputId": "9b323593-bd10-4e4e-d457-73a78a9c8edd"
      },
      "execution_count": null,
      "outputs": [
        {
          "output_type": "execute_result",
          "data": {
            "text/plain": [
              "BMW         40000.0\n",
              "BYD         30000.0\n",
              "Mazda       60000.0\n",
              "Jaguar          NaN\n",
              "Toyota      50000.0\n",
              "Porsche     55000.0\n",
              "Mercedes        NaN\n",
              "dtype: float64"
            ]
          },
          "metadata": {},
          "execution_count": 18
        }
      ]
    },
    {
      "cell_type": "code",
      "source": [],
      "metadata": {
        "id": "o7XhApFqaK1s"
      },
      "execution_count": null,
      "outputs": []
    }
  ]
}